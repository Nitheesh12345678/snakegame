{
 "cells": [
  {
   "cell_type": "code",
   "execution_count": 27,
   "id": "9192c1b4",
   "metadata": {},
   "outputs": [
    {
     "name": "stdout",
     "output_type": "stream",
     "text": [
      "Requirement already satisfied: pygame in c:\\users\\user\\appdata\\local\\programs\\python\\python312\\lib\\site-packages (2.5.2)\n",
      "Note: you may need to restart the kernel to use updated packages.\n"
     ]
    }
   ],
   "source": [
    "%pip install pygame\n"
   ]
  },
  {
   "cell_type": "code",
   "execution_count": 28,
   "id": "06e73df4",
   "metadata": {},
   "outputs": [],
   "source": [
    "import sys\n",
    "import pygame\n",
    "import time\n",
    "import random\n",
    "\n"
   ]
  },
  {
   "cell_type": "code",
   "execution_count": 29,
   "id": "e74503e4",
   "metadata": {},
   "outputs": [],
   "source": [
    "pygame.init()\n",
    "\n",
    "WIDTH = 800\n",
    "HEIGHT = 600\n",
    "WHITE = (255, 255, 255)\n",
    "BLACK = (0, 0, 0)\n",
    "RED = (0,244,0)\n",
    "GREEN = (0, 255, 0)\n",
    "FONT = pygame.font.SysFont('Arial', 30)"
   ]
  },
  {
   "cell_type": "code",
   "execution_count": 30,
   "id": "e5bf115c",
   "metadata": {},
   "outputs": [],
   "source": [
    "screen = pygame.display.set_mode((WIDTH, HEIGHT))\n",
    "score_font = FONT.render('Score: 0', True, WHITE)\n",
    "score = 0"
   ]
  },
  {
   "cell_type": "code",
   "execution_count": 31,
   "id": "4748955a",
   "metadata": {},
   "outputs": [],
   "source": [
    "\n",
    "SCALE = 20 \n",
    "SLEEP_TIME = 0.1\n",
    "\n",
    "\n",
    "def handle_keys():\n",
    "    keys = pygame.key.get_pressed()\n",
    "    return keys[pygame.K_UP], keys[pygame.K_DOWN], keys[pygame.K_LEFT], keys[pygame.K_RIGHT]\n",
    "\n",
    "def gameover_screen():\n",
    "    over_font = FONT.render('GAME OVER', True, RED)\n",
    "    score_font = FONT.render('Final Score: ' + str(score), True, WHITE)\n",
    "\n",
    "    screen.fill(BLACK)\n",
    "    screen.blit(over_font, [(WIDTH // 2) - 50, (HEIGHT // 2) - 30])\n",
    "    screen.blit(score_font, [(WIDTH // 2) - 50, (HEIGHT // 2) + 20])\n",
    "    pygame.display.update()\n",
    "    time.sleep(2)\n",
    "    pygame.quit()\n",
    "    sys.exit()\n",
    "\n",
    "def game_loop():\n",
    "    game_exit = False\n",
    "    direction = [0, 0]\n",
    "    head_pos = [WIDTH // 2, HEIGHT // 2]\n",
    "    body_positions = []\n",
    "    food_pos = [random.randrange(5, WIDTH, 50), random.randrange(5, HEIGHT, 50)]\n",
    "\n",
    "    while not game_exit:\n",
    "        for event in pygame.event.get():\n",
    "            if event.type == pygame.QUIT:\n",
    "                game_exit = True\n",
    "\n",
    "        keys = handle_keys()\n",
    "        if keys[0] and direction[1] == 0: direction[1] = -1\n",
    "        elif keys[1] and direction[1] == -1: direction[1] = 1\n",
    "        elif keys[2] and direction[0] == 0: direction[0] = -1\n",
    "        elif keys[3] and direction[0] == -1: direction[0] = 1\n",
    "\n",
    "        new_head_pos = [head_pos[0] + direction[0] * SCALE, head_pos[1] + direction[1] * SCALE]\n",
    "        if new_head_pos == food_pos:\n",
    "            score += 10\n",
    "            NOT_LESS_THAN_5 = 5  # Define a variable to hold the new lower bound\n",
    "            food_pos = [random.randrange(NOT_LESS_THAN_5, WIDTH, 50), random.randrange(NOT_LESS_THAN_5, HEIGHT, 50)]\n",
    "            \n",
    "\n",
    "        for position in body_positions:\n",
    "            if new_head_pos == position:\n",
    "                gameover_screen()\n",
    "        body_positions.insert(0, new_head_pos)\n",
    "\n",
    "        if len(body_positions) > SCALE: body_positions.pop()\n",
    "\n",
    "       \n",
    "        screen.fill(BLACK)\n",
    "        pygame.draw.rect(screen, GREEN, pygame.Rect(food_pos[0], food_pos[1],SCALE, SCALE))\n",
    "        for position in body_positions:\n",
    "            pygame.draw.rect(screen, WHITE, pygame.Rect(position[0], position[1], SCALE, SCALE))\n",
    "        pygame.draw.rect(screen, WHITE, pygame.Rect(head_pos[0], head_pos[1], SCALE, SCALE))\n",
    "        screen.blit(score_font, [10, 10])\n",
    "\n",
    "        pygame.display.update()\n",
    "        head_pos = new_head_pos\n",
    "        time.sleep(SLEEP_TIME)\n",
    "\n",
    "    gameover_screen()\n"
   ]
  },
  {
   "cell_type": "code",
   "execution_count": 32,
   "id": "a15bb2db",
   "metadata": {},
   "outputs": [],
   "source": [
    "pygame.display.set_caption('Snake Game')\n"
   ]
  },
  {
   "cell_type": "code",
   "execution_count": 33,
   "id": "ec2a4597",
   "metadata": {},
   "outputs": [
    {
     "ename": "SystemExit",
     "evalue": "",
     "output_type": "error",
     "traceback": [
      "An exception has occurred, use %tb to see the full traceback.\n",
      "\u001b[1;31mSystemExit\u001b[0m\n"
     ]
    },
    {
     "name": "stderr",
     "output_type": "stream",
     "text": [
      "C:\\Users\\user\\AppData\\Roaming\\Python\\Python312\\site-packages\\IPython\\core\\interactiveshell.py:3585: UserWarning: To exit: use 'exit', 'quit', or Ctrl-D.\n",
      "  warn(\"To exit: use 'exit', 'quit', or Ctrl-D.\", stacklevel=1)\n"
     ]
    }
   ],
   "source": [
    "game_loop()"
   ]
  },
  {
   "cell_type": "code",
   "execution_count": null,
   "id": "b70c234f",
   "metadata": {},
   "outputs": [],
   "source": []
  }
 ],
 "metadata": {
  "kernelspec": {
   "display_name": "Python 3 (ipykernel)",
   "language": "python",
   "name": "python3"
  },
  "language_info": {
   "codemirror_mode": {
    "name": "ipython",
    "version": 3
   },
   "file_extension": ".py",
   "mimetype": "text/x-python",
   "name": "python",
   "nbconvert_exporter": "python",
   "pygments_lexer": "ipython3",
   "version": "3.12.2"
  }
 },
 "nbformat": 4,
 "nbformat_minor": 5
}
